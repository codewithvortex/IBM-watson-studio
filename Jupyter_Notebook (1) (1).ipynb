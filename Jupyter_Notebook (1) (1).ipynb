{
 "cells": [
  {
   "cell_type": "markdown",
   "metadata": {},
   "source": [
    "<center>\n",
    "    <img src=\"https://s3-api.us-geo.objectstorage.softlayer.net/cf-courses-data/CognitiveClass/Logos/organization_logo/organization_logo.png\" width=\"300\" alt=\"cognitiveclass.ai logo\"  />\n",
    "</center>\n"
   ]
  },
  {
   "cell_type": "markdown",
   "metadata": {},
   "source": [
    "#### Add your code below following the instructions given in the course\n"
   ]
  },
  {
   "cell_type": "markdown",
   "metadata": {},
   "source": [
    "<h1>My Jupyter Notebook on IBM Watson Studio</h>\n",
    "<p>My name is Ani peter Benjamin </p>\n",
    "<i>I am interested in data science because i want to build a company around Artificial intelligence hence i need strong knowledge of data science and machine learning </i>\n",
    "</i>\n",
    "<h3>My code in cell 5 would do a little Bodmas calculation 1+ 1</h3>\n",
    "<h3>2</h3>\n",
    "<hr>\n",
    "<ul>\n",
    "    <li>This is under cell 6</li>\n",
    "    <li>This is also under cell 6</li>\n",
    "</ul>\n",
    "<strike>This is a strike message under cell 6 quiz</strike>\n",
    "<hr>"
   ]
  },
  {
   "cell_type": "code",
   "execution_count": null,
   "metadata": {},
   "outputs": [],
   "source": []
  }
 ],
 "metadata": {
  "kernelspec": {
   "display_name": "Python",
   "language": "python",
   "name": "conda-env-python-py"
  },
  "language_info": {
   "codemirror_mode": {
    "name": "ipython",
    "version": 3
   },
   "file_extension": ".py",
   "mimetype": "text/x-python",
   "name": "python",
   "nbconvert_exporter": "python",
   "pygments_lexer": "ipython3",
   "version": "3.7.12"
  }
 },
 "nbformat": 4,
 "nbformat_minor": 4
}
